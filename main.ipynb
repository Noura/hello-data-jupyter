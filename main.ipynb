{
 "cells": [
  {
   "cell_type": "markdown",
   "metadata": {},
   "source": [
    "# Different ways of loading data"
   ]
  },
  {
   "cell_type": "markdown",
   "metadata": {},
   "source": [
    "## From a local file\n",
    "I made up some fake data similar to our Twitter example on the first day of class and put it in a file called \"data.csv\" on my computer."
   ]
  },
  {
   "cell_type": "code",
   "execution_count": 17,
   "metadata": {
    "collapsed": false
   },
   "outputs": [
    {
     "name": "stdout",
     "output_type": "stream",
     "text": [
      "TWITTER_USER_ID, BENGHAZI, FOLLOW_TRUMP, FOLLOW_CLINTON, ILLEGAL_IMMIGRANTS, UNDOCUMENTED_IMMIGRANTS, BERKELEY, SAN_FRANCISCO, WASHINGTON_DC, STUDENT\n",
      "@dbamman, 0, 0, 0, 0, 0, 1, 0, 0, 0\n",
      "@howell_noura, 0, 0, 0, 0, 0, 0, 0, 0, 1\n",
      "\n"
     ]
    }
   ],
   "source": [
    "import csv\n",
    "with open('data.csv') as my_csv_file:\n",
    "    reader = csv.reader(my_csv_file)\n",
    "    for row in reader:\n",
    "        print(', '.join(row))\n"
   ]
  },
  {
   "cell_type": "markdown",
   "metadata": {},
   "source": [
    "## From a URL"
   ]
  },
  {
   "cell_type": "code",
   "execution_count": 15,
   "metadata": {
    "collapsed": false
   },
   "outputs": [
    {
     "name": "stdout",
     "output_type": "stream",
     "text": [
      "{u'response': {u'status': {u'code': 3, u'message': u'3|You are limited to 2 accesses every minute. You might be eligible for a rate limit increase, go to http://developer.echonest.com/account/upgrade', u'version': u'4.2'}}}\n"
     ]
    }
   ],
   "source": [
    "import urllib, json\n",
    "url = \"http://developer.echonest.com/api/v4/artist/search?api_key=FILDTEOIK2HBORODV&style=funk\"\n",
    "response = urllib.urlopen(url)\n",
    "data = json.loads(response.read())\n",
    "print data"
   ]
  },
  {
   "cell_type": "markdown",
   "metadata": {
    "collapsed": true
   },
   "source": [
    "# From Postgres\n",
    "\n",
    "See this example.\n",
    "\n",
    "Github for Jupyter notebook: https://github.com/binder-project/example-service-postgres\n",
    "\n",
    "Then click the \"launch binder\" badge in the README to go to the Jupyter notebook.\n",
    "\n",
    "I guess this example assumes you have a Postgres server running somewhere, or they are hosting one for you that will let you connect to it?"
   ]
  },
  {
   "cell_type": "markdown",
   "metadata": {},
   "source": [
    "# From Spark\n",
    "\n",
    "Or apparently Spark is this cool data service that lets you store arbitrary Python objects and then run operations \n",
    "on them in parallel. I couldnt find an example of using Spark with Binder but anyway the Spark API looks pretty nice:\n",
    "http://spark.apache.org/examples.html"
   ]
  },
  {
   "cell_type": "code",
   "execution_count": null,
   "metadata": {
    "collapsed": true
   },
   "outputs": [],
   "source": []
  }
 ],
 "metadata": {
  "kernelspec": {
   "display_name": "Python 2",
   "language": "python",
   "name": "python2"
  },
  "language_info": {
   "codemirror_mode": {
    "name": "ipython",
    "version": 2
   },
   "file_extension": ".py",
   "mimetype": "text/x-python",
   "name": "python",
   "nbconvert_exporter": "python",
   "pygments_lexer": "ipython2",
   "version": "2.7.9"
  }
 },
 "nbformat": 4,
 "nbformat_minor": 0
}
