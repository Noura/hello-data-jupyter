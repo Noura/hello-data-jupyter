{
 "cells": [
  {
   "cell_type": "markdown",
   "metadata": {},
   "source": [
    "# Different ways of loading data"
   ]
  },
  {
   "cell_type": "markdown",
   "metadata": {},
   "source": [
    "## From a local file\n",
    "I made up some fake data similar to our Twitter example on the first day of class and put it in a file called \"data.csv\" on my computer."
   ]
  },
  {
   "cell_type": "code",
   "execution_count": 1,
   "metadata": {
    "collapsed": false
   },
   "outputs": [
    {
     "name": "stdout",
     "output_type": "stream",
     "text": [
      "TWITTER_USER_ID, BENGHAZI, FOLLOW_TRUMP, FOLLOW_CLINTON, ILLEGAL_IMMIGRANTS, UNDOCUMENTED_IMMIGRANTS, BERKELEY, SAN_FRANCISCO, WASHINGTON_DC, STUDENT\n",
      "@fake_twitter_handle, 0, 0, 0, 0, 0, 1, 0, 0, 0\n",
      "@another_twitter_handle, 0, 0, 0, 0, 0, 0, 0, 0, 1\n",
      "\n"
     ]
    }
   ],
   "source": [
    "import csv\n",
    "with open('data.csv') as csv_file:\n",
    "    reader = csv.reader(csv_file)\n",
    "    for row in reader:\n",
    "        print(', '.join(row))\n"
   ]
  },
  {
   "cell_type": "markdown",
   "metadata": {},
   "source": [
    "## From a URL"
   ]
  },
  {
   "cell_type": "code",
   "execution_count": 2,
   "metadata": {
    "collapsed": false
   },
   "outputs": [
    {
     "name": "stdout",
     "output_type": "stream",
     "text": [
      "{u'response': {u'status': {u'code': 0, u'message': u'Success', u'version': u'4.2'}, u'artists': [{u'id': u'AR3Z9SK1187B9928E0', u'name': u'Dazz Band'}, {u'id': u'AREVWQO11E2835D3DC', u'name': u'The Brothers Johnson'}, {u'id': u'ARE3H4L1187B9B659C', u'name': u'Chaka Khan'}, {u'id': u'ARACD0I1187B98C80B', u'name': u'Blowfly'}, {u'id': u'AR0709B1187B9A8E99', u'name': u'Amp Fiddler'}, {u'id': u'ARI5FSD1187B9ADFCD', u'name': u'New Birth'}, {u'id': u'ARX4G5N1187FB5BDC3', u'name': u'The Blackbyrds'}, {u'id': u'ARQSLGK1187FB47CF3', u'name': u'KC and The Sunshine Band'}, {u'id': u'AR5KAA01187FB5AEB7', u'name': u'Herbie Hancock'}, {u'id': u'ARDJZ181187B9B7FBF', u'name': u'Sly & The Family Stone'}, {u'id': u'ARVWJM61187B9B7715', u'name': u'Earth, Wind & Fire'}, {u'id': u'ARCR7611187FB4E908', u'name': u'Bootsy Collins'}, {u'id': u'AR9DG6N1187B98B564', u'name': u'The Budos Band'}, {u'id': u'ARRDLVE1187FB48F11', u'name': u'James Brown'}, {u'id': u'AR2665Z1187FB56AB9', u'name': u'Commodores'}]}}\n"
     ]
    }
   ],
   "source": [
    "import urllib, json\n",
    "url = \"http://developer.echonest.com/api/v4/artist/search?api_key=FILDTEOIK2HBORODV&style=funk\"\n",
    "response = urllib.urlopen(url)\n",
    "data = json.loads(response.read())\n",
    "print data"
   ]
  },
  {
   "cell_type": "markdown",
   "metadata": {
    "collapsed": true
   },
   "source": [
    "# From Postgres\n",
    "\n",
    "See this example.\n",
    "\n",
    "Github for Jupyter notebook: https://github.com/binder-project/example-service-postgres\n",
    "\n",
    "Then click the \"launch binder\" badge in the README to go to the Jupyter notebook.\n",
    "\n",
    "I guess this example assumes you have a Postgres server running somewhere, or they are hosting one for you that will let you connect to it?"
   ]
  },
  {
   "cell_type": "markdown",
   "metadata": {},
   "source": [
    "# From Spark\n",
    "\n",
    "Or apparently Spark is this cool data service that lets you store arbitrary Python objects and then run operations \n",
    "on them in parallel. I couldnt find an example of using Spark with Binder but anyway the Spark API looks pretty nice:\n",
    "http://spark.apache.org/examples.html"
   ]
  },
  {
   "cell_type": "code",
   "execution_count": null,
   "metadata": {
    "collapsed": true
   },
   "outputs": [],
   "source": []
  }
 ],
 "metadata": {
  "kernelspec": {
   "display_name": "Python 2",
   "language": "python",
   "name": "python2"
  },
  "language_info": {
   "codemirror_mode": {
    "name": "ipython",
    "version": 2
   },
   "file_extension": ".py",
   "mimetype": "text/x-python",
   "name": "python",
   "nbconvert_exporter": "python",
   "pygments_lexer": "ipython2",
   "version": "2.7.9"
  }
 },
 "nbformat": 4,
 "nbformat_minor": 0
}
